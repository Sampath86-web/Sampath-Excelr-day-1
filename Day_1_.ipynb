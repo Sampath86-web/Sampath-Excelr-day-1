{
  "nbformat": 4,
  "nbformat_minor": 0,
  "metadata": {
    "colab": {
      "provenance": [],
      "authorship_tag": "ABX9TyP6dlID9GHBTnyIK/G2XzaZ",
      "include_colab_link": true
    },
    "kernelspec": {
      "name": "python3",
      "display_name": "Python 3"
    },
    "language_info": {
      "name": "python"
    }
  },
  "cells": [
    {
      "cell_type": "markdown",
      "metadata": {
        "id": "view-in-github",
        "colab_type": "text"
      },
      "source": [
        "<a href=\"https://colab.research.google.com/github/Sampath86-web/Sampath-Excelr-day-1/blob/main/Day_1_.ipynb\" target=\"_parent\"><img src=\"https://colab.research.google.com/assets/colab-badge.svg\" alt=\"Open In Colab\"/></a>"
      ]
    },
    {
      "cell_type": "markdown",
      "source": [
        "Write a program in Jupyter Notebook to declare variables of different data types (integer, float, string, and boolean). Print each variable and its type.\n",
        "\n"
      ],
      "metadata": {
        "id": "jR0riEewDzL6"
      }
    },
    {
      "source": [
        "# Declare an integer variable\n",
        "my_integer = 10\n",
        "\n",
        "# Declare a float variable\n",
        "my_float = 3.14\n",
        "\n",
        "# Declare a string variable\n",
        "my_string = \"Hello, world!\"\n",
        "\n",
        "# Declare a boolean variable\n",
        "my_boolean = True\n",
        "\n",
        "# Print the variables and their types\n",
        "print(my_integer, type(my_integer))\n",
        "print(my_float, type(my_float))\n",
        "print(my_string, type(my_string))\n",
        "print(my_boolean, type(my_boolean))"
      ],
      "cell_type": "code",
      "metadata": {
        "colab": {
          "base_uri": "https://localhost:8080/"
        },
        "id": "8LCsmPi_EAT5",
        "outputId": "1615629c-5f3f-4c89-b6d9-bcf468402c68"
      },
      "execution_count": 1,
      "outputs": [
        {
          "output_type": "stream",
          "name": "stdout",
          "text": [
            "10 <class 'int'>\n",
            "3.14 <class 'float'>\n",
            "Hello, world! <class 'str'>\n",
            "True <class 'bool'>\n"
          ]
        }
      ]
    },
    {
      "source": [
        "# Declare an integer variable\n",
        "integer_var = 10\n",
        "\n",
        "# Declare a float variable\n",
        "float_var = 3.14\n",
        "\n",
        "# Declare a string variable\n",
        "string_var = \"Hello, world!\"\n",
        "\n",
        "# Declare a boolean variable\n",
        "boolean_var = True\n",
        "\n",
        "# Print each variable and its type\n",
        "print(f\"integer_var: {integer_var}, Type: {type(integer_var)}\")\n",
        "print(f\"float_var: {float_var}, Type: {type(float_var)}\")\n",
        "print(f\"string_var: {string_var}, Type: {type(string_var)}\")\n",
        "print(f\"boolean_var: {boolean_var}, Type: {type(boolean_var)}\")"
      ],
      "cell_type": "code",
      "metadata": {
        "colab": {
          "base_uri": "https://localhost:8080/"
        },
        "id": "4e4UpzYHEH7o",
        "outputId": "cdc36096-dc01-4450-e354-32c3b85bfe50"
      },
      "execution_count": 2,
      "outputs": [
        {
          "output_type": "stream",
          "name": "stdout",
          "text": [
            "integer_var: 10, Type: <class 'int'>\n",
            "float_var: 3.14, Type: <class 'float'>\n",
            "string_var: Hello, world!, Type: <class 'str'>\n",
            "boolean_var: True, Type: <class 'bool'>\n"
          ]
        }
      ]
    },
    {
      "cell_type": "code",
      "source": [],
      "metadata": {
        "id": "IYThgLeFD4JW"
      },
      "execution_count": null,
      "outputs": []
    }
  ]
}